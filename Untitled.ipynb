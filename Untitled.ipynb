{
 "cells": [
  {
   "cell_type": "code",
   "execution_count": 1,
   "id": "9107d5b1",
   "metadata": {},
   "outputs": [
    {
     "name": "stdout",
     "output_type": "stream",
     "text": [
      "2022-03-15 07:36:47,863 - kedro.framework.session.session - INFO - ** Kedro project movie-rec\n",
      "2022-03-15 07:36:48,026 - kedro.io.data_catalog - INFO - Loading data from `movies` (CSVDataSet)...\n",
      "2022-03-15 07:36:48,043 - kedro.pipeline.node - INFO - Running node: preprocess_movies_node: preprocess_movies([movies]) -> [preprocessed_movies]\n",
      "2022-03-15 07:36:48,044 - kedro.io.data_catalog - INFO - Saving data to `preprocessed_movies` (ParquetDataSet)...\n",
      "2022-03-15 07:36:48,047 - kedro.runner.sequential_runner - INFO - Completed 1 out of 4 tasks\n",
      "2022-03-15 07:36:48,047 - kedro.io.data_catalog - INFO - Loading data from `preprocessed_movies` (ParquetDataSet)...\n",
      "2022-03-15 07:36:48,073 - kedro.io.data_catalog - INFO - Loading data from `params:split_ratio` (MemoryDataSet)...\n",
      "2022-03-15 07:36:48,074 - kedro.pipeline.node - INFO - Running node: split_data([preprocessed_movies,params:split_ratio]) -> [train_x,train_y,test_x,test_y]\n",
      "2022-03-15 07:36:48,076 - kedro.io.data_catalog - INFO - Saving data to `train_x` (MemoryDataSet)...\n",
      "2022-03-15 07:36:48,076 - kedro.io.data_catalog - INFO - Saving data to `train_y` (MemoryDataSet)...\n",
      "2022-03-15 07:36:48,077 - kedro.io.data_catalog - INFO - Saving data to `test_x` (MemoryDataSet)...\n",
      "2022-03-15 07:36:48,077 - kedro.io.data_catalog - INFO - Saving data to `test_y` (MemoryDataSet)...\n",
      "2022-03-15 07:36:48,077 - kedro.runner.sequential_runner - INFO - Completed 2 out of 4 tasks\n",
      "2022-03-15 07:36:48,078 - kedro.io.data_catalog - INFO - Loading data from `train_x` (MemoryDataSet)...\n",
      "2022-03-15 07:36:48,078 - kedro.io.data_catalog - INFO - Loading data from `train_y` (MemoryDataSet)...\n",
      "2022-03-15 07:36:48,079 - kedro.pipeline.node - INFO - Running node: train_model_node: train_model([train_x,train_y]) -> [regressor]\n"
     ]
    },
    {
     "name": "stderr",
     "output_type": "stream",
     "text": [
      "/home/spock-the-wizard/anaconda3/lib/python3.8/site-packages/kedro/io/data_catalog.py:189: DeprecationWarning: The transformer API will be deprecated in Kedro 0.18.0.Please use Dataset Hooks to customise the load and save methods.For more information, please visithttps://kedro.readthedocs.io/en/stable/07_extend_kedro/02_hooks.html\n",
      "  warnings.warn(\n",
      "/home/spock-the-wizard/anaconda3/lib/python3.8/site-packages/pandas/compat/_optional.py:116: DeprecationWarning: distutils Version classes are deprecated. Use packaging.version instead.\n",
      "  if distutils.version.LooseVersion(version) < minimum_version:\n",
      "/home/spock-the-wizard/.local/lib/python3.8/site-packages/setuptools/_distutils/version.py:351: DeprecationWarning: distutils Version classes are deprecated. Use packaging.version instead.\n",
      "  other = LooseVersion(other)\n",
      "/home/spock-the-wizard/anaconda3/lib/python3.8/site-packages/pandas/core/arrays/_arrow_utils.py:9: DeprecationWarning: distutils Version classes are deprecated. Use packaging.version instead.\n",
      "  _pyarrow_version_ge_015 = LooseVersion(pyarrow.__version__) >= LooseVersion(\"0.15\")\n"
     ]
    },
    {
     "name": "stdout",
     "output_type": "stream",
     "text": [
      "> \u001b[0;32m/home/spock-the-wizard/cmu/mlp/movie-rec/src/movie_recommendation/pipelines/data_science/nodes.py\u001b[0m(58)\u001b[0;36mtrain_model\u001b[0;34m()\u001b[0m\n",
      "\u001b[0;32m     56 \u001b[0;31m    \u001b[0mregressor\u001b[0m \u001b[0;34m=\u001b[0m \u001b[0mLinearRegression\u001b[0m\u001b[0;34m(\u001b[0m\u001b[0;34m)\u001b[0m\u001b[0;34m\u001b[0m\u001b[0;34m\u001b[0m\u001b[0m\n",
      "\u001b[0m\u001b[0;32m     57 \u001b[0;31m    \u001b[0;32mimport\u001b[0m \u001b[0mpdb\u001b[0m\u001b[0;34m;\u001b[0m\u001b[0mpdb\u001b[0m\u001b[0;34m.\u001b[0m\u001b[0mset_trace\u001b[0m\u001b[0;34m(\u001b[0m\u001b[0;34m)\u001b[0m\u001b[0;34m\u001b[0m\u001b[0;34m\u001b[0m\u001b[0m\n",
      "\u001b[0m\u001b[0;32m---> 58 \u001b[0;31m    \u001b[0mregressor\u001b[0m\u001b[0;34m.\u001b[0m\u001b[0mfit\u001b[0m\u001b[0;34m(\u001b[0m\u001b[0mX_train\u001b[0m\u001b[0;34m,\u001b[0m \u001b[0my_train\u001b[0m\u001b[0;34m)\u001b[0m\u001b[0;34m\u001b[0m\u001b[0;34m\u001b[0m\u001b[0m\n",
      "\u001b[0m\u001b[0;32m     59 \u001b[0;31m    \u001b[0;32mreturn\u001b[0m \u001b[0mregressor\u001b[0m\u001b[0;34m\u001b[0m\u001b[0;34m\u001b[0m\u001b[0m\n",
      "\u001b[0m\u001b[0;32m     60 \u001b[0;31m\u001b[0;34m\u001b[0m\u001b[0m\n",
      "\u001b[0m\n",
      "ipdb> c\n",
      "2022-03-15 07:36:54,632 - kedro.io.data_catalog - INFO - Saving data to `regressor` (PickleDataSet)...\n",
      "2022-03-15 07:36:54,634 - kedro.runner.sequential_runner - INFO - Completed 3 out of 4 tasks\n",
      "2022-03-15 07:36:54,634 - kedro.io.data_catalog - INFO - Loading data from `regressor` (PickleDataSet)...\n",
      "2022-03-15 07:36:54,635 - kedro.io.data_catalog - INFO - Loading data from `test_x` (MemoryDataSet)...\n",
      "2022-03-15 07:36:54,635 - kedro.io.data_catalog - INFO - Loading data from `test_y` (MemoryDataSet)...\n",
      "2022-03-15 07:36:54,636 - kedro.pipeline.node - INFO - Running node: evaluate_model_node: evaluate_model([regressor,test_x,test_y]) -> None\n",
      "2022-03-15 07:36:54,638 - movie_recommendation.pipelines.data_science.nodes - INFO - Model has a coefficient R^2 of -0.001 on test data.\n",
      "2022-03-15 07:36:54,639 - kedro.runner.sequential_runner - INFO - Completed 4 out of 4 tasks\n",
      "2022-03-15 07:36:54,639 - kedro.runner.sequential_runner - INFO - Pipeline execution completed successfully.\n"
     ]
    },
    {
     "data": {
      "text/plain": [
       "{}"
      ]
     },
     "execution_count": 1,
     "metadata": {},
     "output_type": "execute_result"
    }
   ],
   "source": [
    "session.run()\n"
   ]
  }
 ],
 "metadata": {
  "kernelspec": {
   "display_name": "MovieRecommendation",
   "language": "python",
   "name": "python3"
  },
  "language_info": {
   "codemirror_mode": {
    "name": "ipython",
    "version": 3
   },
   "file_extension": ".py",
   "mimetype": "text/x-python",
   "name": "python",
   "nbconvert_exporter": "python",
   "pygments_lexer": "ipython3",
   "version": "3.8.8"
  }
 },
 "nbformat": 4,
 "nbformat_minor": 5
}
